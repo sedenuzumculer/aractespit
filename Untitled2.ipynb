{
 "cells": [
  {
   "cell_type": "code",
   "execution_count": 2,
   "id": "20c25ca4",
   "metadata": {},
   "outputs": [
    {
     "name": "stderr",
     "output_type": "stream",
     "text": [
      "/Users/sedenuzumculer/anaconda3/envs/opencv_env/lib/python3.9/site-packages/numpy/_core/fromnumeric.py:3596: RuntimeWarning: Mean of empty slice.\n",
      "  return _methods._mean(a, axis=axis, dtype=dtype,\n",
      "/Users/sedenuzumculer/anaconda3/envs/opencv_env/lib/python3.9/site-packages/numpy/_core/_methods.py:138: RuntimeWarning: invalid value encountered in scalar divide\n",
      "  ret = ret.dtype.type(ret / rcount)\n"
     ]
    },
    {
     "ename": "",
     "evalue": "",
     "output_type": "error",
     "traceback": [
      "\u001b[1;31mGeçerli hücrede veya önceki bir hücrede kod yürütülürken Çekirdek kilitlendi. Hatanın olası nedenini belirlemek için lütfen hücrelerdeki kodu gözden geçirin. Daha fazla bilgi için <a href='https://aka.ms/vscodeJupyterKernelCrash'>buraya</a> tıklayın. Daha fazla ayrıntı için Jupyter <a href='command:jupyter.viewOutput'>günlüğünü</a> görüntüleyin."
     ]
    }
   ],
   "source": [
    "import matplotlib\n",
    "matplotlib.use('TkAgg') \n",
    "import matplotlib.pyplot as plt\n",
    "import cv2\n",
    "import numpy as np\n",
    "from ultralytics import YOLO\n",
    "model= YOLO('yolov8n.pt')\n",
    "# Görüntüyü yükle\n",
    "img = cv2.imread('/Users/sedenuzumculer/aractespit/IMG_5498.jpg')\n",
    "\n",
    "# Görüntüyü gri tonlamaya dönüştür\n",
    "gray = cv2.cvtColor(img, cv2.COLOR_BGR2GRAY)\n",
    "\n",
    "# Kenarları belirle (Canny kenar algılama)\n",
    "edges = cv2.Canny(gray, 50, 150, apertureSize=3)\n",
    "\n",
    "# Çizgileri tespit et (Hough çizgi dönüşümü)\n",
    "lines = cv2.HoughLinesP(edges, 1, np.pi/180, 100, minLineLength=100, maxLineGap=10)\n",
    "\n",
    "# Park yerlerini temsil edebilecek dikdörtgen bölgeleri bul\n",
    "parking_spaces = []\n",
    "for line in lines:\n",
    "    x1, y1, x2, y2 = line[0]\n",
    "    angle = np.arctan2(y2 - y1, x2 - x1) * 180 / np.pi\n",
    "    if abs(angle) > 80 and abs(angle) < 100:  # Yaklaşık dikey çizgiler\n",
    "        parking_spaces.append([x1, y1, x2, y2])\n",
    "\n",
    "# Park yerlerinin doluluk durumunu kontrol et (örnek: renk tabanlı)\n",
    "for space in parking_spaces:\n",
    "    x1, y1, x2, y2 = space\n",
    "    roi = img[y1:y2, x1:x2]  # Park yeri bölgesi\n",
    "    mean_color = np.mean(roi)  # Bölgenin ortalama renk değeri\n",
    "    if mean_color > 150:  # Örnek eşik değeri (boş park yeri için)\n",
    "        cv2.rectangle(img, (x1, y1), (x2, y2), (255, 0, 0), 2)  # Mavi çerçeve (boş)\n",
    "    else:\n",
    "        cv2.rectangle(img, (x1, y1), (x2, y2), (0, 0, 255), 2)  # Kırmızı çerçeve (dolu)\n",
    "\n",
    "# Sonucu göster\n",
    "plt.imshow(cv2.cvtColor(img, cv2.COLOR_BGR2RGB))\n",
    "plt.show()\n"
   ]
  },
  {
   "cell_type": "markdown",
   "id": "1cc580df",
   "metadata": {},
   "source": []
  }
 ],
 "metadata": {
  "kernelspec": {
   "display_name": "Python 3 (ipykernel)",
   "language": "python",
   "name": "python3"
  },
  "language_info": {
   "codemirror_mode": {
    "name": "ipython",
    "version": 3
   },
   "file_extension": ".py",
   "mimetype": "text/x-python",
   "name": "python",
   "nbconvert_exporter": "python",
   "pygments_lexer": "ipython3",
   "version": "3.9.18"
  },
  "vscode": {
   "interpreter": {
    "hash": "1a8c83eb02333a8836cd453adda39c70c4f9613c6b6f4d4944fa4fcddee2d761"
   }
  }
 },
 "nbformat": 4,
 "nbformat_minor": 5
}
