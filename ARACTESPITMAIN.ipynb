{
 "cells": [
  {
   "cell_type": "code",
   "execution_count": 1,
   "id": "44df685d",
   "metadata": {},
   "outputs": [],
   "source": [
    "from ultralytics import YOLO\n"
   ]
  },
  {
   "cell_type": "code",
   "execution_count": 2,
   "id": "a76fc781",
   "metadata": {},
   "outputs": [
    {
     "name": "stdout",
     "output_type": "stream",
     "text": [
      "\n",
      "image 1/1 /Users/sedenuzumculer/aractespit/otopark.png: 480x640 1 person, 18 cars, 1 bus, 4 trucks, 131.0ms\n",
      "Speed: 20.4ms preprocess, 131.0ms inference, 11.9ms postprocess per image at shape (1, 3, 480, 640)\n",
      "Boş park yerleri:\n",
      "[1320, 1900, 1934, 2100]\n",
      "[2343, 1895, 2916, 2065]\n",
      "[698, 1991, 1214, 2236]\n",
      "\n",
      "Dolu park yerleri ve araç koordinatları:\n"
     ]
    },
    {
     "ename": "",
     "evalue": "",
     "output_type": "error",
     "traceback": [
      "\u001b[1;31mGeçerli hücrede veya önceki bir hücrede kod yürütülürken Çekirdek kilitlendi. Hatanın olası nedenini belirlemek için lütfen hücrelerdeki kodu gözden geçirin. Daha fazla bilgi için <a href='https://aka.ms/vscodeJupyterKernelCrash'>buraya</a> tıklayın. Daha fazla ayrıntı için Jupyter <a href='command:jupyter.viewOutput'>günlüğünü</a> görüntüleyin."
     ]
    }
   ],
   "source": [
    "import matplotlib\n",
    "matplotlib.use('TkAgg') \n",
    "import matplotlib.pyplot as plt\n",
    "from ultralytics import YOLO\n",
    "from IPython.display import Image\n",
    "import numpy as np\n",
    "import cv2\n",
    "import json\n",
    "\n",
    "\n",
    "\n",
    "# YOLOv8 modelini yükleyin (yolov8n varsayılan olarak yüklenir)\n",
    "model = YOLO('yolov8n.pt')  # İsterseniz farklı bir model belirtebilirsiniz\n",
    "\n",
    "# Görüntüyü yükleyin (görüntünüzün yolunu doğru şekilde belirtin)\n",
    "results = model('/Users/sedenuzumculer/aractespit/otopark.png') \n",
    "parking_spaces = [\n",
    "    [1320, 1900, 1934, 2100],  # 1. park yeri\n",
    "    [2343, 1895, 2916, 2065],  # 2. park yeri\n",
    "    [698, 1991, 1214, 2236],  # 3. park yeri\n",
    "]\n",
    "def box_overlaps_space(box, space, threshold=0.5):\n",
    "    \"\"\"Bir sınırlayıcı kutunun bir park yeri bölgesiyle örtüşüp örtüşmediğini kontrol eder.\"\"\"\n",
    "    space_x1, space_y1, space_x2, space_y2 = space\n",
    "\n",
    "    box_x1, box_y1, box_x2, box_y2 = box\n",
    "\n",
    "    x_overlap = max(0, min(box_x2, space_x2) - max(box_x1, space_x1))\n",
    "    y_overlap = max(0, min(box_y2, space_y2) - max(box_y1, space_y1))\n",
    "\n",
    "    intersection_area = x_overlap * y_overlap\n",
    "    box_area = (box_x2 - box_x1) * (box_y2 - box_y1)\n",
    "    space_area = (space_x2 - space_x1) * (space_y2 - space_y1)\n",
    "    union_area = box_area + space_area - intersection_area\n",
    "\n",
    "    iou = intersection_area / union_area\n",
    "\n",
    "    return iou > threshold\n",
    "\n",
    "empty_spaces = []\n",
    "occupied_spaces = []\n",
    "car_boxes = []\n",
    "\n",
    "for result in results:\n",
    "    boxes = result.boxes\n",
    "    for box in boxes:\n",
    "        if model.names[int(box.cls[0])] == 'car': \n",
    "            car_boxes.append(box.xyxy[0].tolist())\n",
    "\n",
    "for space in parking_spaces:\n",
    "    is_empty = True\n",
    "    for result in results:\n",
    "        boxes = result.boxes\n",
    "        for car_box in car_boxes:\n",
    "            if box_overlaps_space(car_box, space):\n",
    "                is_empty = False\n",
    "                break\n",
    "\n",
    "    if is_empty:\n",
    "        empty_spaces.append(space)\n",
    "    else:\n",
    "        occupied_spaces.append(space)\n",
    "\n",
    "\n",
    "print(\"Boş park yerleri:\")\n",
    "\n",
    "for space in empty_spaces:\n",
    "    print(space)\n",
    "\n",
    "print(\"\\nDolu park yerleri ve araç koordinatları:\")\n",
    "for i, space in enumerate(occupied_spaces):\n",
    "    if i < len(car_boxes):  # İndeks hatasını önlemek için kontrol\n",
    "        print(f\"Park yeri: {space}, Araç kutusu: {car_boxes[i]}\")\n",
    "\n",
    "\n",
    "\n",
    "for result in results:\n",
    "    img_copy = result.orig_img.copy()\n",
    "   \n",
    "    \n",
    "    for space in empty_spaces:\n",
    "        x1, y1, x2, y2 = space\n",
    "        cv2.rectangle(img_copy, (x1, y1), (x2, y2), (255, 0, 0), 2)  # Boş park yerleri için mavi çerçeve\n",
    "    for space in occupied_spaces:\n",
    "        x1, y1, x2, y2 = space\n",
    "        cv2.rectangle(img_copy, (x1, y1), (x2, y2), (0, 0, 255), 2)  # Dolu park yerleri için kırmızı çerçeve\n",
    "     \n",
    "    for box in result.boxes:\n",
    "       if model.names[int(box.cls[0])] == 'car':\n",
    "            x1, y1, x2, y2 = map(int, box.xyxy[0])\n",
    "            cv2.rectangle(img_copy, (x1, y1), (x2, y2), (0, 255, 0), 2)  # Yeşil çerçeve\n",
    "            cv2.putText(img_copy, 'car: {:.2f}'.format(box.conf[0]), (x1, y1 - 10), \n",
    "                        cv2.FONT_HERSHEY_SIMPLEX, 0.9, (0, 255, 0), 2)  # Metin boyutu ve rengi ayarlandı\n",
    "\n",
    "\n",
    "    plt.imshow(cv2.cvtColor(img_copy, cv2.COLOR_BGR2RGB))\n",
    "    plt.show()\n",
    "\n"
   ]
  },
  {
   "cell_type": "markdown",
   "id": "1cc580df",
   "metadata": {},
   "source": []
  },
  {
   "cell_type": "markdown",
   "id": "4d9e08b2",
   "metadata": {},
   "source": []
  }
 ],
 "metadata": {
  "kernelspec": {
   "display_name": "Python 3.9.18 ('opencv_env')",
   "language": "python",
   "name": "python3"
  },
  "language_info": {
   "codemirror_mode": {
    "name": "ipython",
    "version": 3
   },
   "file_extension": ".py",
   "mimetype": "text/x-python",
   "name": "python",
   "nbconvert_exporter": "python",
   "pygments_lexer": "ipython3",
   "version": "3.9.18"
  },
  "vscode": {
   "interpreter": {
    "hash": "1a8c83eb02333a8836cd453adda39c70c4f9613c6b6f4d4944fa4fcddee2d761"
   }
  }
 },
 "nbformat": 4,
 "nbformat_minor": 5
}
